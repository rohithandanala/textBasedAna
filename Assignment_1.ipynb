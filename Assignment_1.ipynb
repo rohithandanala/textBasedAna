{
 "cells": [
  {
   "cell_type": "markdown",
   "id": "22fc7c6f",
   "metadata": {},
   "source": [
    "## Accessing individual charecters"
   ]
  },
  {
   "cell_type": "code",
   "execution_count": 2,
   "id": "b0aaae7b",
   "metadata": {},
   "outputs": [
    {
     "name": "stdout",
     "output_type": "stream",
     "text": [
      "V\n",
      "e\n",
      "n\n",
      "k\n",
      "a\n",
      "t\n",
      "a\n",
      " \n",
      "S\n",
      "a\n",
      "i\n",
      " \n",
      "R\n",
      "o\n",
      "h\n",
      "i\n",
      "t\n",
      "h\n"
     ]
    }
   ],
   "source": [
    "a = \"Venkata Sai Rohith\"\n",
    "\n",
    "for i in a:\n",
    "    print(i)"
   ]
  },
  {
   "cell_type": "markdown",
   "id": "54e8e296",
   "metadata": {},
   "source": [
    "## String concatination"
   ]
  },
  {
   "cell_type": "code",
   "execution_count": 4,
   "id": "b2dcab58",
   "metadata": {},
   "outputs": [
    {
     "name": "stdout",
     "output_type": "stream",
     "text": [
      "Venkata Sai Rohith\n",
      "Venkata Sai Rohith Andanala\n"
     ]
    }
   ],
   "source": [
    "print(a)\n",
    "new_string = a + \" Andanala\"\n",
    "print(new_string)"
   ]
  },
  {
   "cell_type": "markdown",
   "id": "93477f92",
   "metadata": {},
   "source": [
    "## String methods"
   ]
  },
  {
   "cell_type": "code",
   "execution_count": 7,
   "id": "6b9e28cd",
   "metadata": {},
   "outputs": [
    {
     "name": "stdout",
     "output_type": "stream",
     "text": [
      "True\n",
      "False\n"
     ]
    }
   ],
   "source": [
    "print(new_string.endswith('a'))\n",
    "print(new_string.endswith('b'))"
   ]
  },
  {
   "cell_type": "code",
   "execution_count": 10,
   "id": "3492ee38",
   "metadata": {},
   "outputs": [
    {
     "name": "stdout",
     "output_type": "stream",
     "text": [
      "False\n",
      "True\n"
     ]
    }
   ],
   "source": [
    "print(new_string.startswith('v'))\n",
    "print(new_string.startswith('V'))"
   ]
  },
  {
   "cell_type": "code",
   "execution_count": 11,
   "id": "3af0ecb7",
   "metadata": {},
   "outputs": [
    {
     "name": "stdout",
     "output_type": "stream",
     "text": [
      "12\n"
     ]
    }
   ],
   "source": [
    "print(new_string.find('R'))"
   ]
  },
  {
   "cell_type": "code",
   "execution_count": 14,
   "id": "1f994bb5",
   "metadata": {},
   "outputs": [
    {
     "name": "stdout",
     "output_type": "stream",
     "text": [
      "Venkata Sai Rohith Andanala\n",
      "Venkata Sai rohith Andanala\n"
     ]
    }
   ],
   "source": [
    "print(new_string)\n",
    "print(new_string.replace('R', 'r'))"
   ]
  }
 ],
 "metadata": {
  "kernelspec": {
   "display_name": "Python 3 (ipykernel)",
   "language": "python",
   "name": "python3"
  },
  "language_info": {
   "codemirror_mode": {
    "name": "ipython",
    "version": 3
   },
   "file_extension": ".py",
   "mimetype": "text/x-python",
   "name": "python",
   "nbconvert_exporter": "python",
   "pygments_lexer": "ipython3",
   "version": "3.11.5"
  }
 },
 "nbformat": 4,
 "nbformat_minor": 5
}
