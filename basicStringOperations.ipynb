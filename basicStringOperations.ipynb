{
 "cells": [
  {
   "cell_type": "markdown",
   "id": "0be214bb",
   "metadata": {},
   "source": [
    "## Python Strings\n",
    "\n",
    "Strings in python are surrounded by either singlequotation marks, or double quotation marks.\n",
    "'hello' is the same as \"hello\"."
   ]
  },
  {
   "cell_type": "code",
   "execution_count": 1,
   "id": "2ee93a1d",
   "metadata": {},
   "outputs": [
    {
     "name": "stdout",
     "output_type": "stream",
     "text": [
      "e\n",
      "llo\n"
     ]
    }
   ],
   "source": [
    "a = \"Hello, World!\"\n",
    "print(a[1])  # This will print 'e'\n",
    "b = \"Hello, World!\"\n",
    "print(b[2:5])  # This will print 'llo'"
   ]
  },
  {
   "cell_type": "markdown",
   "id": "558f6097",
   "metadata": {},
   "source": [
    "## More string function\n",
    "These are different type of string operations ."
   ]
  },
  {
   "cell_type": "code",
   "execution_count": 3,
   "id": "e793184b",
   "metadata": {},
   "outputs": [
    {
     "name": "stdout",
     "output_type": "stream",
     "text": [
      "6\n",
      "ROHITH\n",
      "rohith\n"
     ]
    }
   ],
   "source": [
    "# Assign the string \"Rohith\" to the variable a\n",
    "a = \"Rohith\"\n",
    "\n",
    "# Print the length of the string stored in a\n",
    "print(len(a))  # Outputs the number of characters in the string, including spaces and punctuation\n",
    "\n",
    "# Convert the string in a to uppercase and print it\n",
    "print(a.upper())  # Outputs \"ROHITH\"\n",
    "\n",
    "# Convert the string in a to lowercase and print it\n",
    "print(a.lower())  # Outputs \"Rohith\""
   ]
  },
  {
   "cell_type": "markdown",
   "id": "234cbea6",
   "metadata": {},
   "source": [
    "## String Methods\n",
    "These are string methods."
   ]
  },
  {
   "cell_type": "code",
   "execution_count": 4,
   "id": "4a10f609",
   "metadata": {},
   "outputs": [
    {
     "name": "stdout",
     "output_type": "stream",
     "text": [
      "String after lstrip(): Rohith  \n",
      "String after rstrip():   Rohith\n"
     ]
    }
   ],
   "source": [
    "# Initialize a string with leading and trailing spaces\n",
    "example_string = \"  Rohith  \"\n",
    "\n",
    "# Use the lstrip() method to remove leading spaces and print the result\n",
    "print(\"String after lstrip():\", example_string.lstrip())\n",
    "# Outputs the string with leading spaces removed, but trailing spaces are still present\n",
    "\n",
    "# Use the rstrip() method to remove trailing spaces and print the result\n",
    "print(\"String after rstrip():\", example_string.rstrip())\n",
    "# Outputs the string with trailing spaces removed, but leading spaces are still present"
   ]
  },
  {
   "cell_type": "markdown",
   "id": "f7993901",
   "metadata": {},
   "source": [
    "## Slicing String\n",
    "SLicing string is a type of string method which extracts text from main string."
   ]
  },
  {
   "cell_type": "code",
   "execution_count": 5,
   "id": "4ce3606d",
   "metadata": {},
   "outputs": [
    {
     "name": "stdout",
     "output_type": "stream",
     "text": [
      "Slice 1: Rohit\n",
      "Slice 2: Anda\n",
      "Slice 3: dana\n"
     ]
    }
   ],
   "source": [
    "# Initialize a string variable\n",
    "text = \"RohithAndanala\"\n",
    "\n",
    "# Slice the string from index 0 to 5 (not including 5) and store it in slice1\n",
    "slice1 = text[0:5]  # Extracts \"Rohit\"\n",
    "# Slice the string from index 6 to 10 (not including 10) and store it in slice2\n",
    "slice2 = text[6:10] # Extracts \"Anda\"\n",
    "# Slice the string from index 8 to 12 (not including 12) and store it in slice3\n",
    "slice3 = text[8:12] # Extracts \"dana\"\n",
    "\n",
    "# Print the results of the slicing\n",
    "print(\"Slice 1:\", slice1) # Outputs \"Slice 1: Rohit\"\n",
    "print(\"Slice 2:\", slice2) # Outputs \"Slice 2: Anda\"\n",
    "print(\"Slice 3:\", slice3) # Outputs \"Slice 3: dana\""
   ]
  },
  {
   "cell_type": "markdown",
   "id": "09b8e65f",
   "metadata": {},
   "source": [
    "## Splitting a String\n",
    "THis splits text into 2 or more parts. in this spliting delimeter can be selected."
   ]
  },
  {
   "cell_type": "code",
   "execution_count": 2,
   "id": "6dec0cfe",
   "metadata": {},
   "outputs": [
    {
     "name": "stdout",
     "output_type": "stream",
     "text": [
      "['One', 'two', 'three', 'four']\n",
      "['1', '2', '3', '4', '5']\n"
     ]
    }
   ],
   "source": [
    "# Initialize a string variable\n",
    "my_string = 'One two three four'\n",
    "# Split the string into a list of words using default delimiter (space)\n",
    "word_list = my_string.split()\n",
    "# Print the list of words\n",
    "print(word_list)  # Outputs ['One', 'two', 'three', 'four']\n",
    "\n",
    "# Reassign a new string with numbers separated by slashes to the variable\n",
    "my_string = '1/2/3/4/5'\n",
    "# Split the string into a list using '/' as the delimiter\n",
    "number_list = my_string.split('/')\n",
    "# Print the list of numbers as strings\n",
    "print(number_list)  # Outputs ['1', '2', '3', '4', '5']"
   ]
  }
 ],
 "metadata": {
  "kernelspec": {
   "display_name": "Python 3 (ipykernel)",
   "language": "python",
   "name": "python3"
  },
  "language_info": {
   "codemirror_mode": {
    "name": "ipython",
    "version": 3
   },
   "file_extension": ".py",
   "mimetype": "text/x-python",
   "name": "python",
   "nbconvert_exporter": "python",
   "pygments_lexer": "ipython3",
   "version": "3.11.5"
  }
 },
 "nbformat": 4,
 "nbformat_minor": 5
}
